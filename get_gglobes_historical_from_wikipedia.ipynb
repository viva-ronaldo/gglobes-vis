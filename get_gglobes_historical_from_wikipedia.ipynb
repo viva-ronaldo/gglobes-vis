{
 "cells": [
  {
   "cell_type": "code",
   "execution_count": 1,
   "metadata": {},
   "outputs": [],
   "source": [
    "#Get GG historical results from wikipedia instead of IMDb\n",
    "\n",
    "import pandas as pd"
   ]
  },
  {
   "cell_type": "code",
   "execution_count": 47,
   "metadata": {},
   "outputs": [],
   "source": [
    "#Amazing, extracts tables from an html page\n",
    "res = pd.read_html('https://en.wikipedia.org/wiki/Golden_Globe_Award_for_Best_Actor_%E2%80%93_Television_Series_Drama')"
   ]
  },
  {
   "cell_type": "code",
   "execution_count": 56,
   "metadata": {},
   "outputs": [],
   "source": [
    "actor_drama = pd.concat([t[['Year','Program','Actor']] for t in res[3:9]])\n",
    "actor_drama['Year'] = actor_drama['Year'].apply(lambda v: int(v[:4])+1)  #wikipedia calls the ceremonies by year noms announced\n",
    "actor_drama = actor_drama[actor_drama.Program.notnull()]\n",
    "actor_drama['category'] = 'Actor Drama'\n",
    "#can't tell who won exactly, but it is usually just the first in the year group\n",
    "est_winners = pd.DataFrame(actor_drama.groupby('Year').Actor.first()).reset_index()\n",
    "est_winners['won'] = 1\n",
    "actor_drama = actor_drama.merge(est_winners, how='left', on=['Year','Actor'])\n",
    "actor_drama.loc[actor_drama.won.isnull(), 'won'] = 0\n",
    "actor_drama['won'] = actor_drama.won.astype(int)\n",
    "actor_drama.columns = ['year','show','performer','category','won']"
   ]
  },
  {
   "cell_type": "code",
   "execution_count": 88,
   "metadata": {},
   "outputs": [],
   "source": [
    "#and check show categories format\n",
    "res = pd.read_html('https://en.wikipedia.org/wiki/Golden_Globe_Award_for_Best_Television_Series_%E2%80%93_Drama')\n",
    "#res[2]  #want 2-7, Year, Program"
   ]
  },
  {
   "cell_type": "code",
   "execution_count": 118,
   "metadata": {},
   "outputs": [],
   "source": [
    "full_res = []\n",
    "for url, col_name, category_name in zip(['https://en.wikipedia.org/wiki/Golden_Globe_Award_for_Best_Actress_%E2%80%93_Television_Series_Drama',\n",
    "                                         'https://en.wikipedia.org/wiki/Golden_Globe_Award_for_Best_Actor_%E2%80%93_Television_Series_Drama',\n",
    "                                         'https://en.wikipedia.org/wiki/Golden_Globe_Award_for_Best_Actress_%E2%80%93_Television_Series_Musical_or_Comedy',\n",
    "                                         'https://en.wikipedia.org/wiki/Golden_Globe_Award_for_Best_Actor_%E2%80%93_Television_Series_Musical_or_Comedy'],\n",
    "                                        ['Actress','Actor','Actor','Actor'],\n",
    "                                        ['Actress Drama','Actor Drama','Actress Comedy','Actor Comedy']):\n",
    "    res = pd.read_html(url)\n",
    "    res_df = pd.concat([t[['Year','Program',col_name]] for t in res[3:9]])\n",
    "    res_df['Year'] = res_df['Year'].apply(lambda v: int(v[:4])+1)\n",
    "    res_df = res_df[res_df.Program.notnull()]\n",
    "    res_df['category'] = category_name\n",
    "    #can't tell who won exactly, but it is usually just the first in the year group\n",
    "    est_winners = pd.DataFrame(res_df.groupby('Year')[col_name].first()).reset_index()\n",
    "    est_winners['won'] = 1\n",
    "    res_df = res_df.merge(est_winners, how='left', on=['Year',col_name])\n",
    "    res_df.loc[res_df.won.isnull(), 'won'] = 0\n",
    "    res_df['won'] = res_df.won.astype(int)\n",
    "    res_df.columns = ['year','show','performer','category','won']\n",
    "    #fill in joint winners manually\n",
    "    if category_name == 'Actor Drama':\n",
    "        res_df.loc[(res_df.year==1976) & (res_df.performer=='Telly Savalas'), 'won'] = 1\n",
    "    elif category_name == 'Actor Comedy':\n",
    "        res_df.loc[(res_df.year==1978) & (res_df.performer=='Henry Winkler'), 'won'] = 1\n",
    "        res_df.loc[(res_df.year==1989) & (res_df.performer=='Judd Hirsch'), 'won'] = 1\n",
    "        res_df.loc[(res_df.year==1989) & (res_df.performer=='Richard Mulligan'), 'won'] = 1\n",
    "    elif category_name == 'Actress Drama':\n",
    "        res_df.loc[(res_df.year==1982) & (res_df.performer=='Barbara Bel Geddes'), 'won'] = 1\n",
    "        res_df.loc[(res_df.year==1991) & (res_df.performer=='Patricia Wettig'), 'won'] = 1\n",
    "    elif category_name == 'Actress Comedy':\n",
    "        res_df.loc[(res_df.year==1974) & (res_df.performer=='Jean Stapleton'), 'won'] = 1\n",
    "        res_df.loc[(res_df.year==1986) & (res_df.performer=='Cybill Shepherd'), 'won'] = 1\n",
    "    \n",
    "    full_res.append(res_df[['category','year','show','performer','won']])"
   ]
  },
  {
   "cell_type": "code",
   "execution_count": 119,
   "metadata": {},
   "outputs": [],
   "source": [
    "for url, category_name in zip(['https://en.wikipedia.org/wiki/Golden_Globe_Award_for_Best_Television_Series_%E2%80%93_Drama',\n",
    "                               'https://en.wikipedia.org/wiki/Golden_Globe_Award_for_Best_Television_Series_%E2%80%93_Musical_or_Comedy'],\n",
    "                              ['Show Drama','Show Comedy']):\n",
    "    res = pd.read_html(url)\n",
    "    if category_name == 'Show Drama':\n",
    "        res_df = pd.concat([t[['Year','Program']] for t in res[2:8]])\n",
    "    else:\n",
    "        res_df = pd.concat([t[['Year','Program']] for t in res[1:7]])\n",
    "    res_df['Year'] = res_df['Year'].apply(lambda y: y+1)  #already an integer\n",
    "    res_df = res_df[res_df.Program.notnull()]\n",
    "    res_df['category'] = category_name\n",
    "    #can't tell who won exactly, but it is usually just the first in the year group\n",
    "    est_winners = pd.DataFrame(res_df.groupby('Year')['Program'].first()).reset_index()\n",
    "    est_winners['won'] = 1\n",
    "    res_df = res_df.merge(est_winners, how='left', on=['Year','Program'])\n",
    "    res_df.loc[res_df.won.isnull(), 'won'] = 0\n",
    "    res_df['won'] = res_df.won.astype(int)\n",
    "    res_df['performer'] = None\n",
    "    res_df.columns = ['year','show','category','won','performer']\n",
    "    #fill in joint winners manually\n",
    "    if category_name == 'Show Comedy':\n",
    "        res_df.loc[(res_df.year==1980) & (res_df.show=='Taxi'), 'won'] = 1\n",
    "    \n",
    "    full_res.append(res_df[['category','year','show','performer','won']])"
   ]
  },
  {
   "cell_type": "code",
   "execution_count": 120,
   "metadata": {},
   "outputs": [],
   "source": [
    "full_res = pd.concat(full_res)    "
   ]
  },
  {
   "cell_type": "code",
   "execution_count": null,
   "metadata": {},
   "outputs": [],
   "source": [
    "#a few entries are missing from the summary pages\n",
    "full_res = pd.concat([full_res,\n",
    "                      pd.DataFrame({'category': ['Actress Drama'],\n",
    "                                    'year': [1973],\n",
    "                                    'show': ['The Delphi Bureau'],\n",
    "                                    'performer': ['Anne Jeffreys'],\n",
    "                                    'won': [0]\n",
    "                                   })\n",
    "                     ])\n"
   ]
  },
  {
   "cell_type": "code",
   "execution_count": null,
   "metadata": {},
   "outputs": [],
   "source": [
    "full_res.groupby('year').won.sum()  #check mostly 6s with 7s and one 8 in years manually altered"
   ]
  },
  {
   "cell_type": "code",
   "execution_count": 125,
   "metadata": {},
   "outputs": [],
   "source": [
    "full_res[(full_res.year >= 1972) & (full_res.year < 2021)].sort_values(['year','category']).to_csv('/home/david/projects/gglobes_vis/data/gglobes_data_wikipedia_1972to2020.csv.csv', index=None)"
   ]
  }
 ],
 "metadata": {
  "kernelspec": {
   "display_name": "Python 3",
   "language": "python",
   "name": "python3"
  },
  "language_info": {
   "codemirror_mode": {
    "name": "ipython",
    "version": 3
   },
   "file_extension": ".py",
   "mimetype": "text/x-python",
   "name": "python",
   "nbconvert_exporter": "python",
   "pygments_lexer": "ipython3",
   "version": "3.7.6"
  }
 },
 "nbformat": 4,
 "nbformat_minor": 4
}
