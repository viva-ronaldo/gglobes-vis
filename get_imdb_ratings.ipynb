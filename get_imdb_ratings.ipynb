{
 "cells": [
  {
   "cell_type": "code",
   "execution_count": 1,
   "metadata": {},
   "outputs": [],
   "source": [
    "import csv,mechanize,re,time,json\n",
    "import numpy as np\n",
    "import matplotlib.pyplot as plt"
   ]
  },
  {
   "cell_type": "code",
   "execution_count": 2,
   "metadata": {},
   "outputs": [],
   "source": [
    "import pandas as pd"
   ]
  },
  {
   "cell_type": "markdown",
   "metadata": {},
   "source": [
    "Get the episode ratings and average to season/year"
   ]
  },
  {
   "cell_type": "code",
   "execution_count": 3,
   "metadata": {},
   "outputs": [],
   "source": [
    "from imdb import IMDb"
   ]
  },
  {
   "cell_type": "code",
   "execution_count": 4,
   "metadata": {},
   "outputs": [],
   "source": [
    "ia = IMDb()"
   ]
  },
  {
   "cell_type": "code",
   "execution_count": 5,
   "metadata": {},
   "outputs": [],
   "source": [
    "shows = pd.read_csv('./data/gglobes_data_wikipedia_1972to2020.csv')\n"
   ]
  },
  {
   "cell_type": "code",
   "execution_count": 6,
   "metadata": {},
   "outputs": [
    {
     "data": {
      "text/plain": [
       "394"
      ]
     },
     "execution_count": 6,
     "metadata": {},
     "output_type": "execute_result"
    }
   ],
   "source": [
    "shows.show.nunique()"
   ]
  },
  {
   "cell_type": "code",
   "execution_count": 13,
   "metadata": {},
   "outputs": [],
   "source": [
    "#Make a list of cases to correct where the first returned result is not the right one\n",
    "\n",
    "corrections_dict = {\n",
    "    'The Flip Wilson Show': '0065294',\n",
    "    'America': '0185051',\n",
    "    'Kung Fu': '0068093',\n",
    "    'Police Story': '0069620',\n",
    "    'Charlie\\'s Angels': '0073972',\n",
    "    'Battlestar Galactica': '0076984',\n",
    "    'Three\\'s Company':'0075596',\n",
    "    'Alice': '0073955',\n",
    "    '60 Minutes[a]': '0123338',\n",
    "    'The Associates': '0078563',\n",
    "    'From Here to Eternity': '0078616',\n",
    "    'Soap': '0075584',\n",
    "    'Dynasty': '0081856',\n",
    "    'Flamingo Road': '0081863',\n",
    "    'Private Benjamin': '0081918',\n",
    "    'One Day at a Time': '0072554',\n",
    "    'The Equalizer': '0088513',\n",
    "    'Growing Pains': '0088527',\n",
    "    'Beauty and the Beast': '0092319',\n",
    "    'Dear John': '0094447',\n",
    "    'Wiseguy': '0092484',\n",
    "    'Pros and Cons': '0101173',\n",
    "    'Homefront': '0101121',\n",
    "    'Sisters': '0101199',\n",
    "    'The Guardian': '0285370',\n",
    "    'Boss': '1833285',\n",
    "    'Necessary Roughness': '1657505',\n",
    "    'Graves': '4866982',\n",
    "    'The Odd Couple': '0065329',\n",
    "    'Mission: Impossible': '0060009',\n",
    "    'The Blue Knight': '0072478',\n",
    "    'All\\'s Fair': '0073956',\n",
    "    'Holocaust': '0077025',\n",
    "    'The Paper Chase': '0077058',\n",
    "    'Wheels': '0077099',\n",
    "    'House Calls': '0078626',\n",
    "    'Fame': '0083412',\n",
    "    'Nine to Five': '0083377',\n",
    "    'Buffalo Bill': '0084992',\n",
    "    'Nothing Sacred': '0118411',\n",
    "    'House of Lies': '1797404',\n",
    "    'Cannon': '0066636',\n",
    "    'Lotsa Luck': '0069603',\n",
    "    '9 to 5': '0083377',\n",
    "    'Law and Order: Special Victims Unit': '0203259',\n",
    "    'Empire': '3228904'\n",
    "}\n",
    "\n",
    "show_ids_dict = {}\n",
    "\n",
    "for show in shows.show.unique():\n",
    "    \n",
    "    if show in corrections_dict.keys():\n",
    "        show_ids_dict[show] = corrections_dict[show]\n",
    "    else:\n",
    "        res = ia.search_movie(show)\n",
    "        #print(f\"{show}: {res[0]['long imdb title']}\")\n",
    "        show_ids_dict[show] = res[0].movieID"
   ]
  },
  {
   "cell_type": "markdown",
   "metadata": {},
   "source": [
    "Get the season ratings and years for all the shows"
   ]
  },
  {
   "cell_type": "code",
   "execution_count": 40,
   "metadata": {},
   "outputs": [
    {
     "data": {
      "text/plain": [
       "394"
      ]
     },
     "execution_count": 40,
     "metadata": {},
     "output_type": "execute_result"
    }
   ],
   "source": [
    "tmp = list(show_ids_dict.items())\n",
    "len(tmp)"
   ]
  },
  {
   "cell_type": "code",
   "execution_count": null,
   "metadata": {},
   "outputs": [],
   "source": [
    "show_ratings = []"
   ]
  },
  {
   "cell_type": "code",
   "execution_count": null,
   "metadata": {},
   "outputs": [],
   "source": [
    "for show, show_id in show_ids_dict.items():\n",
    "#for (show, show_id) in tmp[350:]:\n",
    "    #These is actually a TV movie - no episodes\n",
    "    #General Hospital, Carson are a series but gives an error, probably because too many episodes\n",
    "    if show in ['The Homecoming: A Christmas Story','America','The Scarlett OHara War','Moviola',\n",
    "                'General Hospital','The Tonight Show Starring Johnny Carson']:\n",
    "        continue\n",
    "    \n",
    "    eps = ia.get_movie_episodes(show_id)\n",
    "\n",
    "    for season in eps['data']['episodes']:\n",
    "        #Mr Robot has a -1 season 'Virtual Reality Experience'\n",
    "        if season < 1:\n",
    "            continue\n",
    "\n",
    "        print(show, season)\n",
    "        first_ep_id = list(eps['data']['episodes'][season].keys())[0]\n",
    "        if 'year' in eps['data']['episodes'][season][first_ep_id].keys():\n",
    "            season_start_year = eps['data']['episodes'][season][first_ep_id]['year']\n",
    "\n",
    "        av_rating, av_num_votes, num_eps = 0., 0., 0\n",
    "        for episode in eps['data']['episodes'][season].values():\n",
    "            #exclude episodes that have not aired and been reviewed yet\n",
    "            if 'rating' not in episode.keys() or 'votes' not in episode.keys() or 'year' not in episode.keys():\n",
    "                continue\n",
    "            #print(f\"{episode['smart canonical title']} ({episode['year']}): {episode['rating']:.1f} from {episode['votes']} votes\")\n",
    "            if episode['rating'] < 1 or episode['rating'] > 10:\n",
    "                print('strange rating', episode['rating'], episode['votes'])\n",
    "            av_rating += episode['rating']\n",
    "            num_eps += 1\n",
    "            av_num_votes += episode['votes']\n",
    "            \n",
    "        if num_eps > 0:\n",
    "            av_rating = np.round(av_rating/num_eps,2)\n",
    "            av_num_votes = np.round(av_num_votes/num_eps,0)\n",
    "\n",
    "            #print(f\"==== Season {season} average rating = {av_rating:.2f}\")\n",
    "            show_ratings.append([show, season, season_start_year, num_eps, av_rating, av_num_votes])"
   ]
  },
  {
   "cell_type": "code",
   "execution_count": 75,
   "metadata": {},
   "outputs": [],
   "source": [
    "with open('./data/imdb_data_gglobesnominees_wikipedianames_1972to2020.csv','w') as f:\n",
    "    mywriter = csv.writer(f)\n",
    "    mywriter.writerow(['show', 'season', 'season_start_year', 'num_eps', 'av_rating', 'av_num_votes'])\n",
    "    for row in show_ratings:\n",
    "        mywriter.writerow(row)"
   ]
  },
  {
   "cell_type": "markdown",
   "metadata": {},
   "source": [
    "Do for 2021 pending"
   ]
  },
  {
   "cell_type": "code",
   "execution_count": 12,
   "metadata": {},
   "outputs": [
    {
     "data": {
      "text/plain": [
       "array(['Ozark', 'The Crown', 'Better Call Saul', 'Hunters', 'Perry Mason',\n",
       "       'Black Monday', 'The Great', \"Schitt's Creek\", 'Ted Lasso', 'Ramy',\n",
       "       'Killing Eve', 'Ratched', 'Emily in Paris', 'The Flight Attendant',\n",
       "       \"Zoey's Extraordinary Playlist\", 'Lovecraft Country',\n",
       "       'The Mandalorian'], dtype=object)"
      ]
     },
     "execution_count": 12,
     "metadata": {},
     "output_type": "execute_result"
    }
   ],
   "source": [
    "shows = pd.read_csv('gglobes_data_2021pending.csv')\n",
    "\n",
    "shows.show.unique()"
   ]
  },
  {
   "cell_type": "code",
   "execution_count": 11,
   "metadata": {},
   "outputs": [],
   "source": [
    "corrections_dict = {\n",
    "    'Perry Mason': '2077823'\n",
    "}\n",
    "show_ids_dict = {}\n",
    "\n",
    "for show in shows.show.unique():\n",
    "    \n",
    "    if show in corrections_dict.keys():\n",
    "        show_ids_dict[show] = corrections_dict[show]\n",
    "    else:\n",
    "        res = ia.search_movie(show)\n",
    "        #print(f\"{show}: {res[0]['long imdb title']}\")\n",
    "        show_ids_dict[show] = res[0].movieID"
   ]
  },
  {
   "cell_type": "code",
   "execution_count": null,
   "metadata": {},
   "outputs": [],
   "source": [
    "show_ratings = []\n",
    "\n",
    "for show, show_id in show_ids_dict.items():\n",
    "    \n",
    "    eps = ia.get_movie_episodes(show_id)\n",
    "\n",
    "    for season in eps['data']['episodes']:\n",
    "        #Mr Robot has a -1 season 'Virtual Reality Experience'\n",
    "        if season < 1:\n",
    "            continue\n",
    "\n",
    "        print(show, season)\n",
    "        first_ep_id = list(eps['data']['episodes'][season].keys())[0]\n",
    "        if 'year' in eps['data']['episodes'][season][first_ep_id].keys():\n",
    "            season_start_year = eps['data']['episodes'][season][first_ep_id]['year']\n",
    "\n",
    "        av_rating, av_num_votes, num_eps = 0., 0., 0\n",
    "        for episode in eps['data']['episodes'][season].values():\n",
    "            #exclude episodes that have not aired and been reviewed yet\n",
    "            if 'rating' not in episode.keys() or 'votes' not in episode.keys() or 'year' not in episode.keys():\n",
    "                continue\n",
    "            #print(f\"{episode['smart canonical title']} ({episode['year']}): {episode['rating']:.1f} from {episode['votes']} votes\")\n",
    "            if episode['rating'] < 1 or episode['rating'] > 10:\n",
    "                print('strange rating', episode['rating'], episode['votes'])\n",
    "            av_rating += episode['rating']\n",
    "            num_eps += 1\n",
    "            av_num_votes += episode['votes']\n",
    "            \n",
    "        if num_eps > 0:\n",
    "            av_rating = np.round(av_rating/num_eps,2)\n",
    "            av_num_votes = np.round(av_num_votes/num_eps,0)\n",
    "\n",
    "            #print(f\"==== Season {season} average rating = {av_rating:.2f}\")\n",
    "            show_ratings.append([show, season, season_start_year, num_eps, av_rating, av_num_votes])"
   ]
  },
  {
   "cell_type": "code",
   "execution_count": 14,
   "metadata": {},
   "outputs": [],
   "source": [
    "with open('imdb_data_gglobesnominees_2021pending.csv','w') as f:\n",
    "    mywriter = csv.writer(f)\n",
    "    mywriter.writerow(['show', 'season', 'season_start_year', 'num_eps', 'av_rating', 'av_num_votes'])\n",
    "    for row in show_ratings:\n",
    "        mywriter.writerow(row)"
   ]
  }
 ],
 "metadata": {
  "kernelspec": {
   "display_name": "Python 3",
   "language": "python",
   "name": "python3"
  },
  "language_info": {
   "codemirror_mode": {
    "name": "ipython",
    "version": 3
   },
   "file_extension": ".py",
   "mimetype": "text/x-python",
   "name": "python",
   "nbconvert_exporter": "python",
   "pygments_lexer": "ipython3",
   "version": "3.7.6"
  }
 },
 "nbformat": 4,
 "nbformat_minor": 4
}
